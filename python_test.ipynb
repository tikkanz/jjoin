{
 "cells": [
  {
   "cell_type": "code",
   "execution_count": null,
   "metadata": {},
   "outputs": [],
   "source": [
    "import polars as pl"
   ]
  },
  {
   "cell_type": "code",
   "execution_count": null,
   "metadata": {},
   "outputs": [],
   "source": [
    "A = pl.DataFrame({\n",
    "    \"Id\": [1,2,3,4,5],\n",
    "    \"Name\": [\"Alex\", \"Jim\", \"Jerry\", \"Brian\", \"Frieda\"],\n",
    "    \"Age\": [40, 12, 19, 42, 9],\n",
    "    \"Sex\": [\"M\", \"M\", \"F\", \"M\", \"F\"]\n",
    "})\n",
    "B = pl.DataFrame({\n",
    "    \"Id\": [3, 6, 5, 1],\n",
    "    \"Name\": [\"Jerry\", \"Jan\", \"Frieda\", \"Alex\"],\n",
    "    \"Job\": [\"Unemployed\", \"CE0\", \"student\", \"Waiter\"],\n",
    "    \"Status\": [\"Married\", \"Married\", \"Single\", \"Separated\"],\n",
    "})\n",
    "patients = pl.DataFrame({\n",
    "    \"PATIENTID\":[1001, 4004, 3003, 2002, 5005],\n",
    "    \"LASTNAME\":[\"Hopper\", \"Wirth\", \"Kemeny\", \"Gosling\", \"Kurz\"],\n",
    "})\n",
    "visits = pl.DataFrame({\n",
    "    \"PATIENTID\": [2002, 1001, 4004, 2002, 1001, 3003, 4004, 1001],\n",
    "    \"VISIT_DATE\": [\"2020-09-10\", \"2020-09-17\", \"2020-09-24\", \"2020-10-08\", None, \"2020-11-12\", \"2020-11-05\", \"2020-11-19\"],\n",
    "    \"SCORE\": [6.8,5.5, 8.4, None, 6.6, None, 7.0,5.3],\n",
    "})"
   ]
  },
  {
   "cell_type": "code",
   "execution_count": null,
   "metadata": {},
   "outputs": [],
   "source": [
    "# A.join(B, on=\"Id\", how=\"outer\")\n",
    "patients.join(visits, on=\"PATIENTID\", how=\"left\")\n",
    "# visits.join(patients, on=\"PATIENTID\", how=\"left\")"
   ]
  }
 ],
 "metadata": {
  "interpreter": {
   "hash": "32fa3b63f5dc4d9e3810cf3e2318214a3a35abaae4c353b1ca20944cdaedb309"
  },
  "kernelspec": {
   "display_name": "Python 3.9.10 64-bit ('venv_jjoin')",
   "language": "python",
   "name": "python3"
  },
  "language_info": {
   "codemirror_mode": {
    "name": "ipython",
    "version": 3
   },
   "file_extension": ".py",
   "mimetype": "text/x-python",
   "name": "python",
   "nbconvert_exporter": "python",
   "pygments_lexer": "ipython3",
   "version": "3.9.10"
  },
  "orig_nbformat": 4
 },
 "nbformat": 4,
 "nbformat_minor": 2
}
